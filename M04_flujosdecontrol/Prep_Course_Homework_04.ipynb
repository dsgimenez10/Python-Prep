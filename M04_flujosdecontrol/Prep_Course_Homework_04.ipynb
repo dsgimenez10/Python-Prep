{
 "cells": [
  {
   "attachments": {},
   "cell_type": "markdown",
   "metadata": {},
   "source": [
    "## Flujos de Control"
   ]
  },
  {
   "attachments": {},
   "cell_type": "markdown",
   "metadata": {},
   "source": [
    "1) Crear una variable que contenga un elemento del conjunto de números enteros y luego imprimir por pantalla si es mayor o menor a cero"
   ]
  },
  {
   "cell_type": "code",
   "execution_count": 1,
   "metadata": {},
   "outputs": [
    {
     "name": "stdout",
     "output_type": "stream",
     "text": [
      "Es mayor que 0\n"
     ]
    }
   ],
   "source": [
    "variable = 10\n",
    "\n",
    "if variable > 0:\n",
    "    print(\"Es mayor que 0\")\n",
    "else:\n",
    "    print(\"Es menor que 0\")\n",
    "    \n",
    "    "
   ]
  },
  {
   "attachments": {},
   "cell_type": "markdown",
   "metadata": {},
   "source": [
    "2) Crear dos variables y un condicional que informe si son del mismo tipo de dato"
   ]
  },
  {
   "cell_type": "code",
   "execution_count": 5,
   "metadata": {},
   "outputs": [
    {
     "name": "stdout",
     "output_type": "stream",
     "text": [
      "Las variables no son del mismo tipo de dato\n"
     ]
    }
   ],
   "source": [
    "variable = 10\n",
    "variable2 = \"10\"\n",
    "\n",
    "if type(variable) == type(variable2):\n",
    "    print(\"Las variables son del mismo tipo de dato\")\n",
    "else:\n",
    "    print(\"Las variables no son del mismo tipo de dato\")\n"
   ]
  },
  {
   "attachments": {},
   "cell_type": "markdown",
   "metadata": {},
   "source": [
    "3) Para los valores enteros del 1 al 20, imprimir por pantalla si es par o impar"
   ]
  },
  {
   "cell_type": "code",
   "execution_count": 19,
   "metadata": {},
   "outputs": [
    {
     "name": "stdout",
     "output_type": "stream",
     "text": [
      "El  0  es par\n",
      "El  1  es impar\n",
      "El  2  es par\n",
      "El  3  es impar\n",
      "El  4  es par\n",
      "El  5  es impar\n",
      "El  6  es par\n",
      "El  7  es impar\n",
      "El  8  es par\n",
      "El  9  es impar\n",
      "El  10  es par\n",
      "El  11  es impar\n",
      "El  12  es par\n",
      "El  13  es impar\n",
      "El  14  es par\n",
      "El  15  es impar\n",
      "El  16  es par\n",
      "El  17  es impar\n",
      "El  18  es par\n",
      "El  19  es impar\n",
      "El  20  es par\n"
     ]
    }
   ],
   "source": [
    "# Ejemplo de continue en un bucle for\n",
    "for i in range(21):\n",
    "    resto = i % 2\n",
    "    \n",
    "    if resto == 0:\n",
    "        print(\"El \", i, \" es par\")\n",
    "    else:\n",
    "        print(\"El \", i, \" es impar\")\n",
    "      "
   ]
  },
  {
   "attachments": {},
   "cell_type": "markdown",
   "metadata": {},
   "source": [
    "4) En un ciclo for mostrar para los valores entre 0 y 5 el resultado de elevarlo a la potencia igual a 3"
   ]
  },
  {
   "cell_type": "code",
   "execution_count": 21,
   "metadata": {},
   "outputs": [
    {
     "name": "stdout",
     "output_type": "stream",
     "text": [
      "0\n",
      "1\n",
      "8\n",
      "27\n",
      "64\n",
      "125\n"
     ]
    }
   ],
   "source": [
    "for i in range(6):\n",
    "    print(i ** 3)"
   ]
  },
  {
   "attachments": {},
   "cell_type": "markdown",
   "metadata": {},
   "source": [
    "5) Crear una variable que contenga un número entero y realizar un ciclo for la misma cantidad de ciclos"
   ]
  },
  {
   "cell_type": "code",
   "execution_count": 24,
   "metadata": {},
   "outputs": [
    {
     "name": "stdout",
     "output_type": "stream",
     "text": [
      "Vuelta  1\n",
      "Vuelta  2\n",
      "Vuelta  3\n",
      "Vuelta  4\n",
      "Vuelta  5\n"
     ]
    }
   ],
   "source": [
    "variable = 5\n",
    "\n",
    "for i in range(variable):\n",
    "    print(\"Vuelta \", i+1)"
   ]
  },
  {
   "attachments": {},
   "cell_type": "markdown",
   "metadata": {},
   "source": [
    "6) Utilizar un ciclo while para realizar el factorial de un número guardado en una variable, sólo si la variable contiene un número entero mayor a 0"
   ]
  },
  {
   "cell_type": "code",
   "execution_count": 34,
   "metadata": {},
   "outputs": [
    {
     "name": "stdout",
     "output_type": "stream",
     "text": [
      "Ingrese un numero: \n",
      "El factorial es:  120\n"
     ]
    }
   ],
   "source": [
    "print(\"Ingrese un numero: \")\n",
    "numero = int(input(\"Ingrese un numero: \"))\n",
    "factorial = numero\n",
    "\n",
    "if numero > 0: \n",
    "    while numero > 2:\n",
    "        numero = numero - 1\n",
    "        factorial = factorial * numero\n",
    "        \n",
    "    print(\"El factorial es: \", factorial)\n",
    "else:\n",
    "    print(\"El numero no es mayor que 0\") "
   ]
  },
  {
   "attachments": {},
   "cell_type": "markdown",
   "metadata": {},
   "source": [
    "7) Crear un ciclo for dentro de un ciclo while"
   ]
  },
  {
   "cell_type": "code",
   "execution_count": 39,
   "metadata": {},
   "outputs": [
    {
     "name": "stdout",
     "output_type": "stream",
     "text": [
      "Ciclo While  1\n",
      "Ciclo For  1\n",
      "Ciclo For  2\n",
      "Ciclo For  3\n",
      "Ciclo While  2\n",
      "Ciclo For  1\n",
      "Ciclo For  2\n",
      "Ciclo For  3\n",
      "Ciclo While  3\n",
      "Ciclo For  1\n",
      "Ciclo For  2\n",
      "Ciclo For  3\n",
      "Ciclo While  4\n",
      "Ciclo For  1\n",
      "Ciclo For  2\n",
      "Ciclo For  3\n"
     ]
    }
   ],
   "source": [
    "n = 1\n",
    "\n",
    "while n < 5:\n",
    "    print(\"Ciclo While \", n)\n",
    "    for i in range(1, 4):\n",
    "        print(\"Ciclo For \", i)\n",
    "    \n",
    "    n = n + 1  \n",
    "\n",
    "        \n"
   ]
  },
  {
   "attachments": {},
   "cell_type": "markdown",
   "metadata": {},
   "source": [
    "8) Crear un ciclo while dentro de un ciclo for"
   ]
  },
  {
   "cell_type": "code",
   "execution_count": 55,
   "metadata": {},
   "outputs": [
    {
     "name": "stdout",
     "output_type": "stream",
     "text": [
      "Ciclo For  1\n",
      "Ciclo While  1\n",
      "Ciclo While  2\n",
      "Ciclo While  3\n",
      "Ciclo While  4\n",
      "Ciclo For  2\n",
      "Ciclo While  1\n",
      "Ciclo While  2\n",
      "Ciclo While  3\n",
      "Ciclo While  4\n",
      "Ciclo For  3\n",
      "Ciclo While  1\n",
      "Ciclo While  2\n",
      "Ciclo While  3\n",
      "Ciclo While  4\n"
     ]
    }
   ],
   "source": [
    "n = 1\n",
    "\n",
    "for i in range(1, 4):\n",
    "    print(\"Ciclo For \", i)\n",
    "    while n < 5:\n",
    "        print(\"Ciclo While \", n)\n",
    "        n = n + 1 \n",
    "    n = 1\n"
   ]
  },
  {
   "attachments": {},
   "cell_type": "markdown",
   "metadata": {},
   "source": [
    "9) Imprimir los números primos existentes entre 0 y 30"
   ]
  },
  {
   "cell_type": "code",
   "execution_count": 15,
   "metadata": {},
   "outputs": [
    {
     "name": "stdout",
     "output_type": "stream",
     "text": [
      "0\n",
      "1\n",
      "2\n",
      "3\n",
      "5\n",
      "7\n",
      "11\n",
      "13\n",
      "17\n",
      "19\n",
      "23\n",
      "29\n"
     ]
    }
   ],
   "source": [
    "\n",
    "numero = 0\n",
    "\n",
    "for i in range(1, 31):\n",
    "    for j in range(2, numero):\n",
    "        if (numero % j == 0):\n",
    "            primo = False\n",
    "    if (primo):\n",
    "        print(numero)\n",
    "    else:\n",
    "        primo = True\n",
    "    numero += 1"
   ]
  },
  {
   "attachments": {},
   "cell_type": "markdown",
   "metadata": {},
   "source": [
    "10) ¿Se puede mejorar el proceso del punto 9? Utilizar las sentencias break y/ó continue para tal fin"
   ]
  },
  {
   "cell_type": "code",
   "execution_count": 6,
   "metadata": {},
   "outputs": [
    {
     "name": "stdout",
     "output_type": "stream",
     "text": [
      "0\n",
      "1\n",
      "2\n",
      "3\n",
      "5\n",
      "7\n",
      "11\n",
      "13\n",
      "17\n",
      "19\n",
      "23\n",
      "29\n"
     ]
    }
   ],
   "source": [
    "\n",
    "numero = 0\n",
    "\n",
    "for i in range(1, 31):\n",
    "    for j in range(2, numero):\n",
    "        if (numero % j == 0):\n",
    "            primo = False\n",
    "            break\n",
    "    if (primo):\n",
    "        print(numero)\n",
    "    else:\n",
    "        primo = True\n",
    "    numero += 1  "
   ]
  },
  {
   "attachments": {},
   "cell_type": "markdown",
   "metadata": {},
   "source": [
    "11) En los puntos 9 y 10, se diseño un código que encuentra números primos y además se lo optimizó. ¿Es posible saber en qué medida se optimizó?"
   ]
  },
  {
   "cell_type": "code",
   "execution_count": 10,
   "metadata": {},
   "outputs": [
    {
     "name": "stdout",
     "output_type": "stream",
     "text": [
      "0\n",
      "1\n",
      "2\n",
      "3\n",
      "5\n",
      "7\n",
      "11\n",
      "13\n",
      "17\n",
      "19\n",
      "23\n",
      "29\n",
      "Ciclos sin Break:  378\n",
      "0\n",
      "1\n",
      "2\n",
      "3\n",
      "5\n",
      "7\n",
      "11\n",
      "13\n",
      "17\n",
      "19\n",
      "23\n",
      "29\n",
      "Ciclos con Break:  134\n",
      "Se optimizó a un 0.3544973544973545% de ciclos aplicando break\n"
     ]
    }
   ],
   "source": [
    "# Ciclos sin break\n",
    "\n",
    "numero = 0\n",
    "ciclos_break = 0\n",
    "\n",
    "for i in range(1, 31):\n",
    "    for j in range(2, numero):\n",
    "        ciclos_break += 1\n",
    "        if (numero % j == 0):\n",
    "            primo = False\n",
    "\n",
    "    if (primo):\n",
    "        print(numero)\n",
    "    else:\n",
    "        primo = True\n",
    "    numero += 1  \n",
    "\n",
    "print(\"Ciclos sin Break: \", ciclos_break )\n",
    "\n",
    "\n",
    "\n",
    "#ciclos con break\n",
    "\n",
    "numero = 0\n",
    "ciclos_sin_break = 0\n",
    "\n",
    "for i in range(1, 31):\n",
    "    for j in range(2, numero):\n",
    "        ciclos_sin_break += 1\n",
    "        if (numero % j == 0):\n",
    "            primo = False\n",
    "            break\n",
    "\n",
    "    if (primo):\n",
    "        print(numero)\n",
    "    else:\n",
    "        primo = True\n",
    "    numero += 1  \n",
    "\n",
    "print(\"Ciclos con Break: \", ciclos_sin_break)\n",
    "print('Se optimizó a un ' + str(ciclos_sin_break/ciclos_break) + ' de ciclos aplicando break')\n"
   ]
  },
  {
   "attachments": {},
   "cell_type": "markdown",
   "metadata": {},
   "source": [
    "12) Aplicando continue, armar un ciclo while que solo imprima los valores divisibles por 12, dentro del rango de números de 100 a 300"
   ]
  },
  {
   "cell_type": "code",
   "execution_count": 12,
   "metadata": {},
   "outputs": [
    {
     "name": "stdout",
     "output_type": "stream",
     "text": [
      "108\n",
      "120\n",
      "132\n",
      "144\n",
      "156\n",
      "168\n",
      "180\n",
      "192\n",
      "204\n",
      "216\n",
      "228\n",
      "240\n",
      "252\n",
      "264\n",
      "276\n",
      "288\n",
      "300\n"
     ]
    }
   ],
   "source": [
    "numero = 100\n",
    "\n",
    "while numero <= 300:\n",
    "    if (numero % 12) == 0:\n",
    "        print(numero)\n",
    "    numero += 1"
   ]
  },
  {
   "attachments": {},
   "cell_type": "markdown",
   "metadata": {},
   "source": [
    "13) Utilizar la función **input()** que permite hacer ingresos por teclado, para encontrar números primos y dar la opción al usario de buscar el siguiente"
   ]
  },
  {
   "cell_type": "code",
   "execution_count": 2,
   "metadata": {},
   "outputs": [
    {
     "name": "stdout",
     "output_type": "stream",
     "text": [
      "1\n",
      "2\n",
      "3\n",
      "5\n",
      "7\n",
      "11\n",
      "13\n",
      "17\n",
      "19\n",
      "23\n",
      "29\n",
      "31\n",
      "37\n",
      "41\n",
      "Se finaliza el proceso\n"
     ]
    }
   ],
   "source": [
    "bandera = True\n",
    "numero = 1\n",
    "primo = True\n",
    "\n",
    "while bandera == True: \n",
    "    for j in range(2, numero):\n",
    "        if (numero % j == 0):\n",
    "            primo = False\n",
    "            break\n",
    "\n",
    "    if (primo):\n",
    "        print(numero)\n",
    "        continuar = str(input(\"Desea continuar Si/No: \"))\n",
    "        if continuar == \"Si\":\n",
    "            bandera = True\n",
    "        else:\n",
    "            print('Se finaliza el proceso')\n",
    "            break\n",
    "    else:\n",
    "        primo = True\n",
    "    \n",
    "    numero += 1  "
   ]
  },
  {
   "attachments": {},
   "cell_type": "markdown",
   "metadata": {},
   "source": [
    "14) Crear un ciclo while que encuentre dentro del rango de 100 a 300 el primer número divisible por 3 y además múltiplo de 6"
   ]
  },
  {
   "cell_type": "code",
   "execution_count": 17,
   "metadata": {},
   "outputs": [
    {
     "name": "stdout",
     "output_type": "stream",
     "text": [
      "El numero, 102 es el el primer número divisible por 3 y además múltiplo de 6\n"
     ]
    }
   ],
   "source": [
    "menor = 100\n",
    "mayor = 300\n",
    "\n",
    "\n",
    "while menor <= 300:\n",
    "    if menor % 6 == 0 and menor % 3 == 0:\n",
    "        print(\"El numero,\", menor, \"es el el primer número divisible por 3 y además múltiplo de 6\")\n",
    "        break\n",
    "    \n",
    "    menor = menor + 1 \n",
    "\n"
   ]
  }
 ],
 "metadata": {
  "interpreter": {
   "hash": "c85384e4cb51c8b72350f3a8712cc8351fdc3955e32a27f9b60c6242ab125f01"
  },
  "kernelspec": {
   "display_name": "Python 3 (ipykernel)",
   "language": "python",
   "name": "python3"
  },
  "language_info": {
   "codemirror_mode": {
    "name": "ipython",
    "version": 3
   },
   "file_extension": ".py",
   "mimetype": "text/x-python",
   "name": "python",
   "nbconvert_exporter": "python",
   "pygments_lexer": "ipython3",
   "version": "3.10.6"
  }
 },
 "nbformat": 4,
 "nbformat_minor": 4
}
